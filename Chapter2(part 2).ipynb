{
 "cells": [
  {
   "cell_type": "code",
   "execution_count": null,
   "id": "3bb0ab08-53ec-4dca-b09e-2124364d6c03",
   "metadata": {},
   "outputs": [],
   "source": [
    "# Bài 26: Kiểm tra nguyên âm, phụ âm\n",
    "chu_cai = input(\"Nhập một chữ cái: \").lower()\n",
    "\n",
    "if len(chu_cai) == 1 and chu_cai.isalpha():\n",
    "    if chu_cai in 'aeiou':\n",
    "        print(f\"Chữ '{chu_cai}' là một nguyên âm.\")\n",
    "    elif chu_cai == 'y':\n",
    "        print(\"Chữ 'y' đôi khi là nguyên âm, đôi khi là phụ âm.\")\n",
    "    else:\n",
    "        print(f\"Chữ '{chu_cai}' là một phụ âm.\")\n",
    "else:\n",
    "    print(\"Vui lòng chỉ nhập một chữ cái duy nhất.\")"
   ]
  },
  {
   "cell_type": "code",
   "execution_count": null,
   "id": "83d2eef7-3c67-45e2-af9c-09fe7c8a52fc",
   "metadata": {},
   "outputs": [],
   "source": [
    "# Bài 27: Xác định tên hình dạng theo số cạnh\n",
    "so_canh = int(input(\"Nhập số cạnh của hình (từ 3 đến 10): \"))\n",
    "\n",
    "ten_hinh = \"\"\n",
    "if so_canh == 3:\n",
    "    ten_hinh = \"Hình tam giác\"\n",
    "elif so_canh == 4:\n",
    "    ten_hinh = \"Hình tứ giác\"\n",
    "elif so_canh == 5:\n",
    "    ten_hinh = \"Hình ngũ giác\"\n",
    "elif so_canh == 6:\n",
    "    ten_hinh = \"Hình lục giác\"\n",
    "elif so_canh == 7:\n",
    "    ten_hinh = \"Hình thất giác\"\n",
    "elif so_canh == 8:\n",
    "    ten_hinh = \"Hình bát giác\"\n",
    "elif so_canh == 9:\n",
    "    ten_hinh = \"Hình cửu giác\"\n",
    "elif so_canh == 10:\n",
    "    ten_hinh = \"Hình thập giác\"\n",
    "\n",
    "if ten_hinh:\n",
    "    print(f\"Hình có {so_canh} cạnh là {ten_hinh}.\")\n",
    "else:\n",
    "    print(\"Lỗi: Số cạnh không hợp lệ. Vui lòng nhập một số từ 3 đến 10.\")"
   ]
  },
  {
   "cell_type": "code",
   "execution_count": null,
   "id": "484c59a1-074c-458a-8d0b-42cb6edab6c2",
   "metadata": {},
   "outputs": [],
   "source": [
    "# Bài 28: Tính số ngày trong tháng\n",
    "ten_thang = input(\"Nhập tên của một tháng (ví dụ: 'Tháng 1', 'Tháng 2',...): \").lower()\n",
    "\n",
    "if ten_thang in [\"tháng 1\", \"tháng 3\", \"tháng 5\", \"tháng 7\", \"tháng 8\", \"tháng 10\", \"tháng 12\"]:\n",
    "    print(\"Tháng này có 31 ngày.\")\n",
    "elif ten_thang in [\"tháng 4\", \"tháng 6\", \"tháng 9\", \"tháng 11\"]:\n",
    "    print(\"Tháng này có 30 ngày.\")\n",
    "elif ten_thang == \"tháng 2\":\n",
    "    print(\"Tháng này có 28 hoặc 29 ngày.\")\n",
    "else:\n",
    "    print(\"Tên tháng không hợp lệ.\")"
   ]
  },
  {
   "cell_type": "code",
   "execution_count": null,
   "id": "bffd0281-ed0a-437c-b719-846fdf5d0646",
   "metadata": {},
   "outputs": [],
   "source": [
    "# Bài 29: Phân loại tam giác\n",
    "print(\"Nhập độ dài ba cạnh của tam giác:\")\n",
    "a = float(input(\"Cạnh a: \"))\n",
    "b = float(input(\"Cạnh b: \"))\n",
    "c = float(input(\"Cạnh c: \"))\n",
    "\n",
    "if a == b and b == c:\n",
    "    print(\"Đây là một tam giác đều.\")\n",
    "elif a == b or b == c or a == c:\n",
    "    print(\"Đây là một tam giác cân.\")\n",
    "else:\n",
    "    print(\"Đây là một tam giác thường (scalene).\")"
   ]
  },
  {
   "cell_type": "code",
   "execution_count": null,
   "id": "226a1ff4-ae17-43dc-aacf-d41829cdfa11",
   "metadata": {},
   "outputs": [],
   "source": [
    "# Bài 30: Kiểm tra năm nhuận\n",
    "nam = int(input(\"Nhập một năm: \"))\n",
    "\n",
    "if (nam % 400 == 0) or (nam % 4 == 0 and nam % 100 != 0):\n",
    "    print(f\"Năm {nam} là một năm nhuận.\")\n",
    "else:\n",
    "    print(f\"Năm {nam} không phải là năm nhuận.\")"
   ]
  },
  {
   "cell_type": "code",
   "execution_count": null,
   "id": "c73bd0f9-93b6-432b-805b-99acec86f2ef",
   "metadata": {},
   "outputs": [],
   "source": [
    "# Bài 31: Mật mã Caesar (Dịch chuyển 3 ký tự)\n",
    "tin_nhan = input(\"Nhập tin nhắn cần mã hóa: \")\n",
    "ket_qua = \"\"\n",
    "dich_chuyen = 3\n",
    "\n",
    "for ky_tu in tin_nhan:\n",
    "    if ky_tu.isalpha():\n",
    "        ma_ascii = ord(ky_tu)\n",
    "        ma_ascii += dich_chuyen\n",
    "        \n",
    "        if ky_tu.isupper():\n",
    "            if ma_ascii > ord('Z'):\n",
    "                ma_ascii -= 26\n",
    "        elif ky_tu.islower():\n",
    "            if ma_ascii > ord('z'):\n",
    "                ma_ascii -= 26\n",
    "        \n",
    "        ket_qua += chr(ma_ascii)\n",
    "    else:\n",
    "        ket_qua += ky_tu\n",
    "\n",
    "print(\"Tin nhắn đã mã hóa:\", ket_qua)"
   ]
  },
  {
   "cell_type": "code",
   "execution_count": null,
   "id": "ff0bdbeb-fe60-4e23-b969-19b158bd8ece",
   "metadata": {},
   "outputs": [],
   "source": [
    "# Bài 32: Mật mã Caesar mở rộng\n",
    "def ma_hoa_caesar(tin_nhan, dich_chuyen, che_do):\n",
    "    ket_qua = \"\"\n",
    "    if che_do == 'giai_ma':\n",
    "        dich_chuyen = -dich_chuyen\n",
    "\n",
    "    for ky_tu in tin_nhan:\n",
    "        if ky_tu.isalpha():\n",
    "            ma_ascii = ord(ky_tu) + dich_chuyen\n",
    "            if ky_tu.isupper():\n",
    "                if ma_ascii > ord('Z'):\n",
    "                    ma_ascii -= 26\n",
    "                elif ma_ascii < ord('A'):\n",
    "                    ma_ascii += 26\n",
    "            elif ky_tu.islower():\n",
    "                if ma_ascii > ord('z'):\n",
    "                    ma_ascii -= 26\n",
    "                elif ma_ascii < ord('a'):\n",
    "                    ma_ascii += 26\n",
    "            ket_qua += chr(ma_ascii)\n",
    "        else:\n",
    "            ket_qua += ky_tu\n",
    "    return ket_qua\n",
    "\n",
    "che_do = input(\"Bạn muốn 'ma_hoa' hay 'giai_ma' tin nhắn? \")\n",
    "tin_nhan_goc = input(\"Nhập tin nhắn của bạn: \")\n",
    "so_dich_chuyen = int(input(\"Nhập số ký tự dịch chuyển: \"))\n",
    "\n",
    "if che_do in ['ma_hoa', 'giai_ma']:\n",
    "    tin_nhan_moi = ma_hoa_caesar(tin_nhan_goc, so_dich_chuyen, che_do)\n",
    "    print(f\"Kết quả: {tin_nhan_moi}\")\n",
    "else:\n",
    "    print(\"Chế độ không hợp lệ.\")"
   ]
  },
  {
   "cell_type": "code",
   "execution_count": null,
   "id": "768038a0-49b4-4c8b-8fa2-82ce62a85bf7",
   "metadata": {},
   "outputs": [],
   "source": [
    "# Bài 33: Kiểm tra chuỗi Palindrome\n",
    "chuoi_nhap = input(\"Nhập một chuỗi để kiểm tra: \")\n",
    "la_palindrome = True\n",
    "\n",
    "# Sử dụng vòng lặp để so sánh ký tự đầu và cuối\n",
    "for i in range(len(chuoi_nhap) // 2):\n",
    "    if chuoi_nhap[i] != chuoi_nhap[len(chuoi_nhap) - 1 - i]:\n",
    "        la_palindrome = False\n",
    "        break\n",
    "\n",
    "if la_palindrome:\n",
    "    print(f\"Chuỗi '{chuoi_nhap}' là một palindrome.\")\n",
    "else:\n",
    "    print(f\"Chuỗi '{chuoi_nhap}' không phải là một palindrome.\")"
   ]
  },
  {
   "cell_type": "code",
   "execution_count": null,
   "id": "12ec2a43-f45b-47b5-b9a7-3648ffcae5e1",
   "metadata": {},
   "outputs": [],
   "source": [
    "# Bài 34: Chuyển đổi thập phân sang nhị phân\n",
    "so_thap_phan = int(input(\"Nhập một số nguyên thập phân: \"))\n",
    "so_nhi_phan = bin(so_thap_phan)\n",
    "\n",
    "print(f\"Số {so_thap_phan} trong hệ nhị phân là: {so_nhi_phan[2:]}\") # Bỏ tiền tố '0b'"
   ]
  },
  {
   "cell_type": "code",
   "execution_count": null,
   "id": "0290c75c-6892-4c62-b17f-407eee9ed633",
   "metadata": {},
   "outputs": [],
   "source": [
    "# Bài 35: Lọc số lẻ\n",
    "chuoi_so = input(\"Nhập một dãy số, cách nhau bởi dấu phẩy: \")\n",
    "danh_sach_so_goc = chuoi_so.split(',')\n",
    "danh_sach_so_le = []\n",
    "\n",
    "for so_str in danh_sach_so_goc:\n",
    "    so = int(so_str.strip())\n",
    "    if so % 2 != 0:\n",
    "        danh_sach_so_le.append(so)\n",
    "\n",
    "print(\"Các số lẻ trong danh sách là:\", danh_sach_so_le)"
   ]
  },
  {
   "cell_type": "code",
   "execution_count": null,
   "id": "e6133475-e3b2-432c-bbe4-ba122037501f",
   "metadata": {},
   "outputs": [],
   "source": [
    "# Bài 36: Đọc và sắp xếp số nguyên\n",
    "danh_sach_so = []\n",
    "print(\"Nhập các số nguyên (nhập 0 để kết thúc):\")\n",
    "\n",
    "while True:\n",
    "    so = int(input())\n",
    "    if so == 0:\n",
    "        break\n",
    "    danh_sach_so.append(so)\n",
    "\n",
    "danh_sach_so.sort()\n",
    "\n",
    "print(\"\\nCác số đã nhập theo thứ tự tăng dần:\")\n",
    "for so in danh_sach_so:\n",
    "    print(so)"
   ]
  },
  {
   "cell_type": "code",
   "execution_count": null,
   "id": "15543f56-b6e5-4a46-92d4-db45b83cd258",
   "metadata": {},
   "outputs": [],
   "source": [
    "# Bài 37: Loại bỏ từ trùng lặp\n",
    "danh_sach_tu = []\n",
    "tu_duy_nhat = []\n",
    "print(\"Nhập các từ (nhập dòng trống để kết thúc):\")\n",
    "\n",
    "while True:\n",
    "    tu = input()\n",
    "    if tu == \"\":\n",
    "        break\n",
    "    danh_sach_tu.append(tu)\n",
    "\n",
    "for tu in danh_sach_tu:\n",
    "    if tu not in tu_duy_nhat:\n",
    "        tu_duy_nhat.append(tu)\n",
    "\n",
    "print(\"\\nCác từ sau khi loại bỏ trùng lặp:\")\n",
    "for tu in tu_duy_nhat:\n",
    "    print(tu)"
   ]
  },
  {
   "cell_type": "code",
   "execution_count": null,
   "id": "c082fd72-8d22-4202-853b-1b20988ae594",
   "metadata": {},
   "outputs": [],
   "source": [
    "# Bài 38: Phân loại và sắp xếp số\n",
    "so_am = []\n",
    "so_khong = []\n",
    "so_duong = []\n",
    "print(\"Nhập các số nguyên (nhập dòng trống để kết thúc):\")\n",
    "\n",
    "while True:\n",
    "    nhap_lieu = input()\n",
    "    if nhap_lieu == \"\":\n",
    "        break\n",
    "    \n",
    "    so = int(nhap_lieu)\n",
    "    if so < 0:\n",
    "        so_am.append(so)\n",
    "    elif so == 0:\n",
    "        so_khong.append(so)\n",
    "    else:\n",
    "        so_duong.append(so)\n",
    "\n",
    "ket_qua = so_am + so_khong + so_duong\n",
    "\n",
    "print(\"\\nCác số đã được sắp xếp lại:\")\n",
    "for so in ket_qua:\n",
    "    print(so)"
   ]
  },
  {
   "cell_type": "code",
   "execution_count": null,
   "id": "68292f00-67ed-438b-a72b-20476220a89f",
   "metadata": {},
   "outputs": [],
   "source": [
    "# Bài 39: Tạo Dictionary bình phương\n",
    "n = int(input(\"Nhập một số nguyên n: \"))\n",
    "dict_binh_phuong = {}\n",
    "\n",
    "for i in range(1, n + 1):\n",
    "    dict_binh_phuong[i] = i * i\n",
    "\n",
    "print(dict_binh_phuong)"
   ]
  },
  {
   "cell_type": "code",
   "execution_count": null,
   "id": "a5cfdfdf-4e7b-4c43-8593-e1bb706be43e",
   "metadata": {},
   "outputs": [],
   "source": [
    "# Bài 40: In hai nửa Tuple\n",
    "tuple_goc = (1, 2, 3, 4, 5, 6, 7, 8, 9, 10)\n",
    "diem_chia = len(tuple_goc) // 2\n",
    "\n",
    "print(tuple_goc[:diem_chia])\n",
    "print(tuple_goc[diem_chia:])"
   ]
  },
  {
   "cell_type": "code",
   "execution_count": null,
   "id": "42792334-ee58-4958-a927-c9a9b79fc981",
   "metadata": {},
   "outputs": [],
   "source": [
    "# Bài 41: Lọc số chẵn từ Tuple\n",
    "tuple_goc = (1, 2, 3, 4, 5, 6, 7, 8, 9, 10)\n",
    "danh_sach_chan = []\n",
    "\n",
    "for so in tuple_goc:\n",
    "    if so % 2 == 0:\n",
    "        danh_sach_chan.append(so)\n",
    "\n",
    "tuple_chan = tuple(danh_sach_chan)\n",
    "print(tuple_chan)"
   ]
  },
  {
   "cell_type": "code",
   "execution_count": null,
   "id": "f47f3a32-01b7-4a75-93a4-eb49aefaba35",
   "metadata": {},
   "outputs": [],
   "source": [
    "# Bài 42: Tính giai thừa\n",
    "def tinh_giai_thua(n):\n",
    "    if n == 0:\n",
    "        return 1\n",
    "    else:\n",
    "        giai_thua = 1\n",
    "        for i in range(1, n + 1):\n",
    "            giai_thua *= i\n",
    "        return giai_thua\n",
    "\n",
    "so = int(input(\"Nhập một số để tính giai thừa: \"))\n",
    "ket_qua = tinh_giai_thua(so)\n",
    "print(f\"Giai thừa của {so} là: {ket_qua}\")"
   ]
  },
  {
   "cell_type": "code",
   "execution_count": null,
   "id": "8b99dde9-d86b-43e6-8ffb-272203e101da",
   "metadata": {},
   "outputs": [],
   "source": [
    "# Bài 43: So sánh độ dài chuỗi\n",
    "def so_sanh_chuoi(chuoi1, chuoi2):\n",
    "    len1 = len(chuoi1)\n",
    "    len2 = len(chuoi2)\n",
    "    if len1 > len2:\n",
    "        print(chuoi1)\n",
    "    elif len2 > len1:\n",
    "        print(chuoi2)\n",
    "    else:\n",
    "        print(chuoi1)\n",
    "        print(chuoi2)\n",
    "\n",
    "s1 = input(\"Nhập chuỗi thứ nhất: \")\n",
    "s2 = input(\"Nhập chuỗi thứ hai: \")\n",
    "so_sanh_chuoi(s1, s2)"
   ]
  },
  {
   "cell_type": "code",
   "execution_count": null,
   "id": "1a7a9c70-227e-4621-8bba-a4afa76300db",
   "metadata": {},
   "outputs": [],
   "source": [
    "# Bài 44: Tạo danh sách bình phương\n",
    "def tao_danh_sach_binh_phuong():\n",
    "    danh_sach = []\n",
    "    for i in range(1, 21):\n",
    "        danh_sach.append(i ** 2)\n",
    "    print(danh_sach)\n",
    "\n",
    "tao_danh_sach_binh_phuong()"
   ]
  },
  {
   "cell_type": "code",
   "execution_count": null,
   "id": "65ab479a-71f3-438f-9126-2f6173cbdd67",
   "metadata": {},
   "outputs": [],
   "source": [
    "# Bài 45: In 5 phần tử đầu tiên\n",
    "def in_5_phan_tu_dau():\n",
    "    danh_sach = []\n",
    "    for i in range(1, 21):\n",
    "        danh_sach.append(i ** 2)\n",
    "    print(danh_sach[:5])\n",
    "\n",
    "in_5_phan_tu_dau()"
   ]
  },
  {
   "cell_type": "code",
   "execution_count": null,
   "id": "3bf673e6-0c71-4ed8-ba3b-a25b4fbf3a5f",
   "metadata": {},
   "outputs": [],
   "source": [
    "# Bài 46: In 5 phần tử cuối cùng\n",
    "def in_5_phan_tu_cuoi():\n",
    "    danh_sach = []\n",
    "    for i in range(1, 21):\n",
    "        danh_sach.append(i ** 2)\n",
    "    print(danh_sach[-5:])\n",
    "\n",
    "in_5_phan_tu_cuoi()"
   ]
  },
  {
   "cell_type": "code",
   "execution_count": null,
   "id": "54b43d36-5094-4668-a667-b021d16bc0a1",
   "metadata": {},
   "outputs": [],
   "source": [
    "# Bài 47: In danh sách trừ 5 phần tử đầu\n",
    "def in_tru_5_phan_tu_dau():\n",
    "    danh_sach = []\n",
    "    for i in range(1, 21):\n",
    "        danh_sach.append(i ** 2)\n",
    "    print(danh_sach[5:])\n",
    "\n",
    "in_tru_5_phan_tu_dau()"
   ]
  },
  {
   "cell_type": "code",
   "execution_count": null,
   "id": "637959b6-2a36-4e67-9de4-118af3b453d6",
   "metadata": {},
   "outputs": [],
   "source": [
    "# Bài 48: Tính trung bình cộng 3 số\n",
    "def tinh_trung_binh(a, b, c):\n",
    "    return (a + b + c) / 3\n",
    "\n",
    "print(\"Nhập ba số để tính trung bình cộng:\")\n",
    "so1 = float(input(\"Số thứ nhất: \"))\n",
    "so2 = float(input(\"Số thứ hai: \"))\n",
    "so3 = float(input(\"Số thứ ba: \"))\n",
    "\n",
    "trung_binh = tinh_trung_binh(so1, so2, so3)\n",
    "print(f\"Giá trị trung bình là: {trung_binh}\")"
   ]
  },
  {
   "cell_type": "code",
   "execution_count": null,
   "id": "51738acb-0646-4cdb-bf78-4779cb956c95",
   "metadata": {},
   "outputs": [],
   "source": [
    "# Bài 49: Kiểm tra số nguyên tố\n",
    "def la_so_nguyen_to(n):\n",
    "    if n < 2:\n",
    "        return False\n",
    "    for i in range(2, int(n**0.5) + 1):\n",
    "        if n % i == 0:\n",
    "            return False\n",
    "    return True\n",
    "\n",
    "so_can_kiem_tra = int(input(\"Nhập một số nguyên để kiểm tra: \"))\n",
    "if la_so_nguyen_to(so_can_kiem_tra):\n",
    "    print(f\"{so_can_kiem_tra} là số nguyên tố.\")\n",
    "else:\n",
    "    print(f\"{so_can_kiem_tra} không phải là số nguyên tố.\")"
   ]
  },
  {
   "cell_type": "code",
   "execution_count": null,
   "id": "3930232f-b726-4c8e-ac58-94c41582d44e",
   "metadata": {},
   "outputs": [],
   "source": []
  },
  {
   "cell_type": "code",
   "execution_count": null,
   "id": "f4d7ea74-e8b5-4f57-b507-2192ed20240d",
   "metadata": {},
   "outputs": [],
   "source": []
  },
  {
   "cell_type": "code",
   "execution_count": null,
   "id": "f8eb4a90-7aa6-41ea-8050-b389c3a822ca",
   "metadata": {},
   "outputs": [],
   "source": []
  },
  {
   "cell_type": "code",
   "execution_count": null,
   "id": "1f166e98-af11-4339-bf18-140e3f268092",
   "metadata": {},
   "outputs": [],
   "source": []
  },
  {
   "cell_type": "code",
   "execution_count": null,
   "id": "8f14e659-8574-4154-9948-bc3ae76e16c3",
   "metadata": {},
   "outputs": [],
   "source": []
  },
  {
   "cell_type": "code",
   "execution_count": null,
   "id": "e70d2c9c-af83-4f22-85a8-e63a1938c763",
   "metadata": {},
   "outputs": [],
   "source": []
  }
 ],
 "metadata": {
  "kernelspec": {
   "display_name": "Python 3 (ipykernel)",
   "language": "python",
   "name": "python3"
  },
  "language_info": {
   "codemirror_mode": {
    "name": "ipython",
    "version": 3
   },
   "file_extension": ".py",
   "mimetype": "text/x-python",
   "name": "python",
   "nbconvert_exporter": "python",
   "pygments_lexer": "ipython3",
   "version": "3.13.5"
  }
 },
 "nbformat": 4,
 "nbformat_minor": 5
}

{
 "cells": [
  {
   "cell_type": "code",
   "execution_count": 1,
   "id": "35935ade-a37e-4128-8499-a9f262699fb4",
   "metadata": {},
   "outputs": [
    {
     "data": {
      "text/plain": [
       "'\\nBài 1. Viết chương trình nhập vào một chuỗi\\nXuất ra màn hình chuỗi ký tự hoa\\nXuất ra màn hình chuỗi ký tự có ký tự đầu là ký tự hoa\\nXuất ra màn hình chuỗi ký tự thường\\n'"
      ]
     },
     "execution_count": 1,
     "metadata": {},
     "output_type": "execute_result"
    }
   ],
   "source": [
    "\"\"\"\n",
    "Bài 1. Viết chương trình nhập vào một chuỗi\n",
    "Xuất ra màn hình chuỗi ký tự hoa\n",
    "Xuất ra màn hình chuỗi ký tự có ký tự đầu là ký tự hoa\n",
    "Xuất ra màn hình chuỗi ký tự thường\n",
    "\"\"\"\n"
   ]
  },
  {
   "cell_type": "code",
   "execution_count": 3,
   "id": "9d2f01df-e2a9-4b2c-8cc6-fc4b9af2cdce",
   "metadata": {},
   "outputs": [
    {
     "name": "stdin",
     "output_type": "stream",
     "text": [
      "Enter your string: vnngan\n"
     ]
    },
    {
     "name": "stdout",
     "output_type": "stream",
     "text": [
      "A Upper String is: VNNGAN\n",
      "A Lower String is : vnngan\n",
      "A Title String is : Vnngan\n"
     ]
    }
   ],
   "source": [
    "st = input(\"Enter your string:\")\n",
    "st_upper = st.upper()\n",
    "st_lower = st.lower()\n",
    "st_title = st.title()\n",
    "\n",
    "print(\"A Upper String is: \" + st_upper)\n",
    "print(\"A Lower String is : \" + st_lower)\n",
    "print(\"A Title String is : \" + st_title)"
   ]
  },
  {
   "cell_type": "code",
   "execution_count": 5,
   "id": "98e97b62-9325-4274-80fe-98c384875cbc",
   "metadata": {},
   "outputs": [
    {
     "data": {
      "text/plain": [
       "'\\nBài 2. Cho chuỗi biểu diễn địa chỉ email:   \" minhnhutvh@gmail.com\" \\nRút trích và hiển thị chuỗi \"gmail.com\" (Đây chính là  tên Host)\\n'"
      ]
     },
     "execution_count": 5,
     "metadata": {},
     "output_type": "execute_result"
    }
   ],
   "source": [
    "'''\n",
    "Bài 2. Cho chuỗi biểu diễn địa chỉ email:   \" minhnhutvh@gmail.com\" \n",
    "Rút trích và hiển thị chuỗi \"gmail.com\" (Đây chính là  tên Host)\n",
    "'''"
   ]
  },
  {
   "cell_type": "code",
   "execution_count": 4,
   "id": "2208cd36-d314-4927-9fb5-55bc689b501e",
   "metadata": {},
   "outputs": [
    {
     "name": "stdout",
     "output_type": "stream",
     "text": [
      "gmail.com\n"
     ]
    }
   ],
   "source": [
    "data = \"minhnhutvh@gmail.com\"\n",
    "position = data.find(\"@\")               \n",
    "host = data[position +1 :]\n",
    "print(host)\n"
   ]
  },
  {
   "cell_type": "code",
   "execution_count": 5,
   "id": "2411f1dd-bada-4dc7-90be-d5b14be8685d",
   "metadata": {},
   "outputs": [
    {
     "data": {
      "text/plain": [
       "'\\nBài 3. Cho chuỗi biểu diễn:  \\n        ‘minhnhutvh@gmai.com Sat Jan 5 09:14:16’\\nRút trích và hiển thị chuỗi “gmail.com”\\n'"
      ]
     },
     "execution_count": 5,
     "metadata": {},
     "output_type": "execute_result"
    }
   ],
   "source": [
    "'''\n",
    "Bài 3. Cho chuỗi biểu diễn:  \n",
    "        ‘minhnhutvh@gmai.com Sat Jan 5 09:14:16’\n",
    "Rút trích và hiển thị chuỗi “gmail.com”\n",
    "'''"
   ]
  },
  {
   "cell_type": "code",
   "execution_count": 6,
   "id": "c60f43e5-e0ba-4f2f-be62-a3df3ed218a8",
   "metadata": {},
   "outputs": [
    {
     "name": "stdout",
     "output_type": "stream",
     "text": [
      "gmail.com\n"
     ]
    }
   ],
   "source": [
    "data = \"minhnhutvh@gmail.com Sat Jan 5 09:14:16\"\n",
    "Start_position = data.find(\"@\")                #  10\n",
    "End_position = data.find(\" \", Start_position)  #  26\n",
    "host = data[Start_position +1 : End_position]\n",
    "print(host)\n"
   ]
  },
  {
   "cell_type": "code",
   "execution_count": 13,
   "id": "d7e501cf-58a4-4d4d-bc28-6c8d4b93ce7a",
   "metadata": {},
   "outputs": [
    {
     "data": {
      "text/plain": [
       "'\\nBài 4: Viết một chương trình thay thế một từ trong chuỗi. Yêu cầu: \\nNhập vào một chuỗi \\nNhập vào một từ cần thay thế và một từ thay thế. \\nSau đó, hiển thị kết quả ra màn hình.\\n'"
      ]
     },
     "execution_count": 13,
     "metadata": {},
     "output_type": "execute_result"
    }
   ],
   "source": [
    "'''\n",
    "Bài 4: Viết một chương trình thay thế một từ trong chuỗi. Yêu cầu: \n",
    "Nhập vào một chuỗi \n",
    "Nhập vào một từ cần thay thế và một từ thay thế. \n",
    "Sau đó, hiển thị kết quả ra màn hình.\n",
    "'''"
   ]
  },
  {
   "cell_type": "code",
   "execution_count": 7,
   "id": "362f98b6",
   "metadata": {},
   "outputs": [
    {
     "name": "stdin",
     "output_type": "stream",
     "text": [
      "Enter your string:  vdssdad\n",
      " Enter the word that needs to replace:  v\n",
      " Enter the word after being replaced:  d\n"
     ]
    },
    {
     "name": "stdout",
     "output_type": "stream",
     "text": [
      "ddssdad\n"
     ]
    }
   ],
   "source": [
    " st1 = input(\"Enter your string: \")\n",
    " st2 = input(\" Enter the word that needs to replace: \")\n",
    " st3 = input(\" Enter the word after being replaced: \")\n",
    "\n",
    " st1 = st1.replace(st2,st3)\n",
    " print(st1)\n"
   ]
  },
  {
   "cell_type": "code",
   "execution_count": 15,
   "id": "30765f52-02d4-4b70-a5aa-6eff7e2b0f31",
   "metadata": {},
   "outputs": [],
   "source": [
    "#Bài 5\n"
   ]
  },
  {
   "cell_type": "code",
   "execution_count": 19,
   "id": "826e126c-ecaa-49fa-ae07-8bbf1ca423eb",
   "metadata": {},
   "outputs": [
    {
     "name": "stdin",
     "output_type": "stream",
     "text": [
      "Enter your string:  ád\n"
     ]
    },
    {
     "name": "stdout",
     "output_type": "stream",
     "text": [
      "First five characters are: ád\n",
      "Last five characters are: ád\n",
      "Four strings of one line are: ád ád ád ád \n",
      "Four strings of four line are: \n",
      "ád\n",
      "ád\n",
      "ád\n",
      "ád\n",
      "\n"
     ]
    }
   ],
   "source": [
    " st = input(\"Enter your string: \")\n",
    " First_five_characters = st[:5]\n",
    " Last_five_characters = st[len(st)-5:]\n",
    " Four_Str_1_line = 4 * (st + \" \")\n",
    " Four_Str_4_line = 4 * (st + \"\\n\")\n",
    "\n",
    " print(\"First five characters are: \" + First_five_characters)\n",
    " print(\"Last five characters are: \" + Last_five_characters)\n",
    " print(\"Four strings of one line are: \" + Four_Str_1_line)\n",
    " print(\"Four strings of four line are: \\n\" + Four_Str_4_line)\n"
   ]
  },
  {
   "cell_type": "code",
   "execution_count": null,
   "id": "505181d8-1819-415a-ad4a-0781539192d2",
   "metadata": {},
   "outputs": [],
   "source": [
    "#Bài 6"
   ]
  },
  {
   "cell_type": "code",
   "execution_count": null,
   "id": "d75cac19-3aa9-43ef-92b3-26def5ee727b",
   "metadata": {},
   "outputs": [],
   "source": [
    "import math\n",
    "\n",
    "r = float(input(\"Nhập bán kính r: \"))\n",
    "h = float(input(\"Nhập chiều cao h: \"))\n",
    "\n",
    "V = math.pi * r * r * h\n",
    "print(\"Thể tích hình trụ là:\", V)"
   ]
  },
  {
   "cell_type": "code",
   "execution_count": null,
   "id": "18d0c077-d415-42d8-a01a-b7c4a8f2b711",
   "metadata": {},
   "outputs": [],
   "source": [
    "#Bài 7"
   ]
  },
  {
   "cell_type": "code",
   "execution_count": null,
   "id": "c27b8ad4-11eb-46be-bd3d-356b077c5c7d",
   "metadata": {},
   "outputs": [],
   "source": [
    "import math\n",
    "\n",
    "a = float(input(\"Nhập cạnh a: \"))\n",
    "b = float(input(\"Nhập cạnh b: \"))\n",
    "c = float(input(\"Nhập cạnh c: \"))\n",
    "\n",
    "A = float(input(\"Nhập góc A (radian): \"))\n",
    "B = float(input(\"Nhập góc B (radian): \"))\n",
    "C = float(input(\"Nhập góc C (radian): \"))\n",
    "\n",
    "S = 0.5 * a * b * math.sin(C)\n",
    "print(\"Diện tích tam giác là:\", S)"
   ]
  },
  {
   "cell_type": "code",
   "execution_count": null,
   "id": "b8a856e0-551d-40d5-ac4c-fe1ca147cd4c",
   "metadata": {},
   "outputs": [],
   "source": [
    "#Bài 8"
   ]
  },
  {
   "cell_type": "code",
   "execution_count": null,
   "id": "3edb750a-bb86-4042-ac3d-56c4cf239118",
   "metadata": {},
   "outputs": [],
   "source": [
    "import math\n",
    "\n",
    "a = float(input(\"Nhập cạnh tam giác đều: \"))\n",
    "\n",
    "p = (3 * a) / 2\n",
    "S = math.sqrt(p * (p - a) * (p - a) * (p - a))\n",
    "\n",
    "print(\"Diện tích tam giác đều là:\", S)"
   ]
  },
  {
   "cell_type": "code",
   "execution_count": null,
   "id": "c6b07d7d-bd8c-448c-963f-39c8a5010c51",
   "metadata": {},
   "outputs": [],
   "source": [
    "'''Bài 9 Nếu nhập tam giác đều vào Bài 7 (ví dụ cạnh = 5, góc = π/3), thì kết quả sẽ giống Bài 8.\n",
    "\n",
    "Lý do: cả công thức lượng giác và công thức Heron đều đúng cho mọi tam giác, với tam giác đều thì chúng cho ra cùng kết quả. '''"
   ]
  },
  {
   "cell_type": "code",
   "execution_count": null,
   "id": "0caad733-ea48-43c8-b13e-949d4028f03b",
   "metadata": {},
   "outputs": [],
   "source": [
    "#bài 10"
   ]
  },
  {
   "cell_type": "code",
   "execution_count": null,
   "id": "5623ae57-29fd-4afa-8453-015d48e4900f",
   "metadata": {},
   "outputs": [],
   "source": [
    "rong = float(input(\"Nhập chiều rộng của phòng: \"))\n",
    "dai = float(input(\"Nhập chiều dài của phòng: \"))\n",
    "dientich = rong * dai\n",
    "print(dientich)"
   ]
  },
  {
   "cell_type": "code",
   "execution_count": null,
   "id": "577432bf-a8d7-40c7-8975-b1b75f5ad0cd",
   "metadata": {},
   "outputs": [],
   "source": [
    "#bài 11"
   ]
  },
  {
   "cell_type": "code",
   "execution_count": null,
   "id": "3d28c443-c73a-43df-a530-9c93e3ffcbdc",
   "metadata": {},
   "outputs": [],
   "source": [
    "rong = float(input(\"Nhập chiều rộng cánh đồng: \"))\n",
    "dai = float(input(\"Nhập chiều dài cánh đồng: \"))\n",
    "dientich_m2 = rong * dai\n",
    "dientich_mau = dientich_m2 / 43560\n",
    "print(dientich_mau)"
   ]
  },
  {
   "cell_type": "code",
   "execution_count": null,
   "id": "a0d9fd8c-0dd4-44b1-a257-13f463b8807f",
   "metadata": {},
   "outputs": [],
   "source": [
    "#bài 12"
   ]
  },
  {
   "cell_type": "code",
   "execution_count": null,
   "id": "d1160dea-1a9e-48bd-bb77-ca6e8958e426",
   "metadata": {},
   "outputs": [],
   "source": [
    "tien_an = float(input(\"Nhập chi phí bữa ăn: \"))\n",
    "tien_boa = tien_an * 0.18\n",
    "tien_thue = tien_an * 0.05\n",
    "tong = tien_an + tien_boa + tien_thue\n",
    "print(round(tien_an, 2))\n",
    "print(round(tien_boa, 2))\n",
    "print(round(tien_thue, 2))\n",
    "print(round(tong, 2))"
   ]
  },
  {
   "cell_type": "code",
   "execution_count": null,
   "id": "7ea69ff6-7c1e-47c8-8c9a-338673a257e8",
   "metadata": {},
   "outputs": [],
   "source": [
    "#bài 13"
   ]
  },
  {
   "cell_type": "code",
   "execution_count": null,
   "id": "8ed7b95a-df26-4972-a5b7-fe14c6d1f595",
   "metadata": {},
   "outputs": [],
   "source": [
    "n = int(input(\"Nhập số nguyên dương n: \"))\n",
    "tong = n * (n + 1) / 2\n",
    "print(tong)"
   ]
  },
  {
   "cell_type": "code",
   "execution_count": null,
   "id": "17499f22-e811-43b0-96c7-6d41e708c772",
   "metadata": {},
   "outputs": [],
   "source": [
    "#bài 14"
   ]
  },
  {
   "cell_type": "code",
   "execution_count": null,
   "id": "5e9baca3-3a08-4573-9baa-ab78308c069d",
   "metadata": {},
   "outputs": [],
   "source": [
    "import math\n",
    "\n",
    "a = int(input(\"Nhập số nguyên a: \"))\n",
    "b = int(input(\"Nhập số nguyên b: \"))\n",
    "\n",
    "print(a + b)\n",
    "print(a - b)\n",
    "print(a * b)\n",
    "print(a / b)\n",
    "print(a % b)\n",
    "print(math.log10(a))\n",
    "print(a ** b)"
   ]
  },
  {
   "cell_type": "code",
   "execution_count": null,
   "id": "f61b967a-f800-49e3-a1b2-4771a1ca7219",
   "metadata": {},
   "outputs": [],
   "source": [
    "#bài 15"
   ]
  },
  {
   "cell_type": "code",
   "execution_count": null,
   "id": "da395a0e-81b5-4295-a93c-fa53d2ef80ec",
   "metadata": {},
   "outputs": [],
   "source": [
    "M = float(input(\"Nhập khối lượng nước (gram): \"))\n",
    "dT = float(input(\"Nhập ΔT (độ C): \"))\n",
    "C = 4.186\n",
    "Q = M * C * dT\n",
    "print(Q)\n",
    "kWh = Q * 2.777e-7\n",
    "cost = kWh * 8.9\n",
    "print(cost)"
   ]
  },
  {
   "cell_type": "code",
   "execution_count": null,
   "id": "d593fded-bdaf-4e1d-9411-35ff7b297d56",
   "metadata": {},
   "outputs": [],
   "source": [
    "#bài 16"
   ]
  },
  {
   "cell_type": "code",
   "execution_count": null,
   "id": "c0043dc0-f3b4-46be-9aae-9dbb31f438f8",
   "metadata": {},
   "outputs": [],
   "source": [
    "import math\n",
    "d = float(input(\"Nhập độ cao (m): \"))\n",
    "a = 9.8\n",
    "vi = 0\n",
    "vf = math.sqrt(vi**2 + 2*a*d)\n",
    "print(vf)"
   ]
  },
  {
   "cell_type": "code",
   "execution_count": null,
   "id": "de191766-27b7-4839-b529-cc3758fd3f61",
   "metadata": {},
   "outputs": [],
   "source": [
    "#bài 17"
   ]
  },
  {
   "cell_type": "code",
   "execution_count": 20,
   "id": "0405ed05-c77e-4900-9148-6569bcfbef92",
   "metadata": {},
   "outputs": [
    {
     "name": "stdin",
     "output_type": "stream",
     "text": [
      "Nhập nhiệt độ không khí (°C):  35\n",
      "Nhập tốc độ gió (km/h):  12\n"
     ]
    },
    {
     "name": "stdout",
     "output_type": "stream",
     "text": [
      "39\n"
     ]
    }
   ],
   "source": [
    "Ta = float(input(\"Nhập nhiệt độ không khí (°C): \"))\n",
    "V = float(input(\"Nhập tốc độ gió (km/h): \"))\n",
    "WCI = 13.12 + 0.6215*Ta - 11.37*(V**0.16) + 0.3965*Ta*(V**0.16)\n",
    "print(round(WCI))"
   ]
  },
  {
   "cell_type": "code",
   "execution_count": null,
   "id": "0215313c-7e9c-4a11-9c51-87fb8e179fdf",
   "metadata": {},
   "outputs": [],
   "source": []
  }
 ],
 "metadata": {
  "kernelspec": {
   "display_name": "Python 3 (ipykernel)",
   "language": "python",
   "name": "python3"
  },
  "language_info": {
   "codemirror_mode": {
    "name": "ipython",
    "version": 3
   },
   "file_extension": ".py",
   "mimetype": "text/x-python",
   "name": "python",
   "nbconvert_exporter": "python",
   "pygments_lexer": "ipython3",
   "version": "3.13.5"
  }
 },
 "nbformat": 4,
 "nbformat_minor": 5
}
